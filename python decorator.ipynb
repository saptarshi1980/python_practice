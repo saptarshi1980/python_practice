{
 "cells": [
  {
   "cell_type": "code",
   "execution_count": 6,
   "id": "db783a23",
   "metadata": {},
   "outputs": [
    {
     "name": "stdout",
     "output_type": "stream",
     "text": [
      "30\n"
     ]
    }
   ],
   "source": [
    "def outer():\n",
    "    x=10\n",
    "    def inner():\n",
    "        y=20\n",
    "        return x+y\n",
    "    return inner\n",
    "\n",
    "a=outer()\n",
    "print(a())"
   ]
  },
  {
   "cell_type": "code",
   "execution_count": 7,
   "id": "53c11101",
   "metadata": {},
   "outputs": [
    {
     "name": "stdout",
     "output_type": "stream",
     "text": [
      "30\n"
     ]
    }
   ],
   "source": [
    "def outer():\n",
    "    x=10\n",
    "    def inner():\n",
    "        y=20\n",
    "        return x+y\n",
    "    return inner()\n",
    "\n",
    "a=outer()\n",
    "print(a)"
   ]
  },
  {
   "cell_type": "code",
   "execution_count": 9,
   "id": "1fed6233",
   "metadata": {},
   "outputs": [
    {
     "name": "stdout",
     "output_type": "stream",
     "text": [
      "inner\n"
     ]
    }
   ],
   "source": [
    "def outer():\n",
    "    x=10\n",
    "    def inner():\n",
    "        y=20\n",
    "        return x+y\n",
    "    return inner\n",
    "\n",
    "a=outer()\n",
    "print(a.__name__)#prints function name"
   ]
  },
  {
   "cell_type": "code",
   "execution_count": 12,
   "id": "64be5295",
   "metadata": {},
   "outputs": [
    {
     "name": "stdout",
     "output_type": "stream",
     "text": [
      "I am in fucntion 2\n",
      "Now I am calling passed fucntion\n",
      "I am in fucntion 1\n"
     ]
    }
   ],
   "source": [
    "def function1():\n",
    "    print(\"I am in fucntion 1\")\n",
    "    \n",
    "def function2(func):\n",
    "    print(\"I am in fucntion 2\")\n",
    "    print(\"Now I am calling passed fucntion\")\n",
    "    func()\n",
    "    \n",
    "function2(function1)\n",
    "    "
   ]
  },
  {
   "cell_type": "markdown",
   "id": "e7046656",
   "metadata": {},
   "source": [
    "#### Decorator"
   ]
  },
  {
   "cell_type": "code",
   "execution_count": 15,
   "id": "df39562b",
   "metadata": {},
   "outputs": [
    {
     "name": "stdout",
     "output_type": "stream",
     "text": [
      "GOOD EVENING\n"
     ]
    }
   ],
   "source": [
    "def print_upper(func):\n",
    "    def inner():\n",
    "        return func().upper()\n",
    "    return inner()\n",
    "\n",
    "@print_upper\n",
    "def print_str():\n",
    "    return \"good evening\"\n",
    "\n",
    "print(print_str)\n"
   ]
  },
  {
   "cell_type": "code",
   "execution_count": 29,
   "id": "4362ceea",
   "metadata": {},
   "outputs": [
    {
     "name": "stdout",
     "output_type": "stream",
     "text": [
      "5.0\n"
     ]
    }
   ],
   "source": [
    "def div_error(func):\n",
    "    def inner(x,y):\n",
    "        if y==0:\n",
    "            return \"Invalid divisor 0!!\"\n",
    "        return func(x,y)\n",
    "    return inner\n",
    "        \n",
    "@div_error\n",
    "def div(a,b):\n",
    "    return a/b\n",
    "\n",
    "print(div(15,3))\n"
   ]
  },
  {
   "cell_type": "markdown",
   "id": "e936ee77",
   "metadata": {},
   "source": [
    "### Apply two decorator"
   ]
  },
  {
   "cell_type": "code",
   "execution_count": 31,
   "id": "1c2d5469",
   "metadata": {},
   "outputs": [
    {
     "name": "stdout",
     "output_type": "stream",
     "text": [
      "['GOOD', 'MORNING!']\n"
     ]
    }
   ],
   "source": [
    "\n",
    "\n",
    "def print_upper(func):\n",
    "    def inner():\n",
    "        return func().upper()\n",
    "    return inner\n",
    "\n",
    "def split(func):\n",
    "    def inner():\n",
    "        x = func()\n",
    "        return x.split()\n",
    "    return inner\n",
    "\n",
    "@split\n",
    "@print_upper\n",
    "def ordinary():\n",
    "    return \"good morning!\"\n",
    "\n",
    "print(ordinary())"
   ]
  },
  {
   "cell_type": "markdown",
   "id": "7b1261b6",
   "metadata": {},
   "source": [
    "### decorator with parameter\n",
    "\n",
    "\n"
   ]
  },
  {
   "cell_type": "code",
   "execution_count": 35,
   "id": "8763b11b",
   "metadata": {},
   "outputs": [
    {
     "name": "stdout",
     "output_type": "stream",
     "text": [
      "good morning!saptarshi\n"
     ]
    }
   ],
   "source": [
    "def outer_d(expr):\n",
    "    def outer(func):\n",
    "        def inner():\n",
    "            return func()+expr\n",
    "        return inner\n",
    "    return outer\n",
    "    \n",
    "\n",
    "\n",
    "@outer_d(\"saptarshi\")\n",
    "def ordinary():\n",
    "    return \"good morning!\"\n",
    "\n",
    "print(ordinary())"
   ]
  },
  {
   "cell_type": "code",
   "execution_count": null,
   "id": "7057e06b",
   "metadata": {},
   "outputs": [],
   "source": []
  }
 ],
 "metadata": {
  "kernelspec": {
   "display_name": "Python 3 (ipykernel)",
   "language": "python",
   "name": "python3"
  },
  "language_info": {
   "codemirror_mode": {
    "name": "ipython",
    "version": 3
   },
   "file_extension": ".py",
   "mimetype": "text/x-python",
   "name": "python",
   "nbconvert_exporter": "python",
   "pygments_lexer": "ipython3",
   "version": "3.9.7"
  }
 },
 "nbformat": 4,
 "nbformat_minor": 5
}
